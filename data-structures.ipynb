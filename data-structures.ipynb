{
 "cells": [
  {
   "cell_type": "markdown",
   "metadata": {},
   "source": [
    "### Data Types vs. Data Structures\n",
    "- data types: int, float, string, bool\n",
    "- data structures: list, tuple, set"
   ]
  },
  {
   "cell_type": "markdown",
   "metadata": {},
   "source": [
    "#### List"
   ]
  },
  {
   "cell_type": "code",
   "execution_count": 2,
   "metadata": {},
   "outputs": [
    {
     "name": "stdout",
     "output_type": "stream",
     "text": [
      "Feb\n",
      "Dec\n"
     ]
    }
   ],
   "source": [
    "months = ['Jan', 'Feb', 'Mar', 'Apr', 'May', 'Jun', 'Jul', 'Aug', 'Sep', 'Oct', 'Nov', 'Dec']\n",
    "\n",
    "print(months[1]) # số thứ 2 xuôi chiều list\n",
    "print(months[-1]) # số đầu tiên ngược chiều list"
   ]
  },
  {
   "cell_type": "code",
   "execution_count": 5,
   "metadata": {},
   "outputs": [],
   "source": [
    "q3 = months[6:9] # 9 is exclusive\n",
    "first_half = months[:6] # từ đầu đến element có index = 6\n",
    "second_half = months[6:] # từ element có index = 6 đến cuối\n",
    "\n",
    "l = len(months) # số elements trong list\n",
    "s = len('string') # số chữ cái trong từ"
   ]
  },
  {
   "cell_type": "code",
   "execution_count": 6,
   "metadata": {},
   "outputs": [
    {
     "name": "stdout",
     "output_type": "stream",
     "text": [
      "['Jul', 'Aug', 'Sep']\n",
      "['Jan', 'Feb', 'Mar', 'Apr', 'May', 'Jun']\n",
      "12\n",
      "6\n"
     ]
    }
   ],
   "source": [
    "print(q3)\n",
    "print(first_half)\n",
    "print(l)\n",
    "print(s)"
   ]
  },
  {
   "cell_type": "code",
   "execution_count": 7,
   "metadata": {},
   "outputs": [
    {
     "name": "stdout",
     "output_type": "stream",
     "text": [
      "True False\n"
     ]
    }
   ],
   "source": [
    "greeting = 'Hello there'\n",
    "print('her' in greeting, 'her' not in greeting)"
   ]
  },
  {
   "cell_type": "code",
   "execution_count": 8,
   "metadata": {},
   "outputs": [
    {
     "name": "stdout",
     "output_type": "stream",
     "text": [
      "False True\n"
     ]
    }
   ],
   "source": [
    "print('Sunday' in months, 'Sunday' not in months)"
   ]
  },
  {
   "cell_type": "markdown",
   "metadata": {},
   "source": [
    "#### Tính chất của các data type"
   ]
  },
  {
   "cell_type": "markdown",
   "metadata": {},
   "source": [
    "- mutability: bất biến hay không bất biến -> dữ liệu có thể thay đổi sau khi tạo hay k\n",
    "- order: nếu order của các elements trong 1 object quan trọng hay k (and whether part of the object can be accessed using this order)"
   ]
  },
  {
   "cell_type": "code",
   "execution_count": 15,
   "metadata": {},
   "outputs": [
    {
     "name": "stdout",
     "output_type": "stream",
     "text": [
      "['Jan', 'Feb', 'Mar', 'Friday', 'May', 'Jun', 'Jul', 'Aug', 'Sep', 'Oct', 'Nov', 'Dec']\n",
      "test: ['Jan', 'Feb', 'Mar', 'Friday', 'May', 'Jun', 'Jul', 'Aug', 'Sep', 'Oct', 'Nov', 'Dec']\n"
     ]
    }
   ],
   "source": [
    "print(months)\n",
    "new_months = months\n",
    "new_months[3] = 'Friday' # list là mutable data type -> mặc dù chỉ thay đổi giá trị index = 3 trong list new_months, đồng thời thay đổi trong list months\n",
    "print(\"test: \" + str(new_months))"
   ]
  },
  {
   "cell_type": "markdown",
   "metadata": {},
   "source": [
    "![Mutability vs Order](mutability-vs-order.png \"hover and u see this\")"
   ]
  },
  {
   "cell_type": "code",
   "execution_count": 21,
   "metadata": {},
   "outputs": [
    {
     "name": "stdout",
     "output_type": "stream",
     "text": [
      "List gốc: ['Jan', 'Feb', 'Mar', 'Friday', 'May', 'Jun', 'Jul', 'Aug', 'Sep', 'Oct', 'Nov', 'Dec']\n",
      "List xếp theo Asc: ['Aug', 'Dec', 'Feb', 'Friday', 'Jan', 'Jul', 'Jun', 'Mar', 'May', 'Nov', 'Oct', 'Sep']\n",
      "List xếp theo Desc: ['Sep', 'Oct', 'Nov', 'May', 'Mar', 'Jun', 'Jul', 'Jan', 'Friday', 'Feb', 'Dec', 'Aug']\n"
     ]
    }
   ],
   "source": [
    "# SORT\n",
    "\n",
    "print(\"List gốc: \" + str(months))\n",
    "print(\"List xếp theo Asc: \" + str(sorted(months)))\n",
    "print(\"List xếp theo Desc: \" + str(sorted(months, reverse=True)))"
   ]
  },
  {
   "cell_type": "code",
   "execution_count": 26,
   "metadata": {},
   "outputs": [
    {
     "name": "stdout",
     "output_type": "stream",
     "text": [
      "['Jan', 'Feb', 'Mar', 'Friday', 'May', 'Jun', 'Jul', 'Aug', 'Sep', 'Oct', 'Nov', 'Dec']\n",
      "Jan\n",
      "Feb\n",
      "Mar\n",
      "Friday\n",
      "May\n",
      "Jun\n",
      "Jul\n",
      "Aug\n",
      "Sep\n",
      "Oct\n",
      "Nov\n",
      "Dec\n",
      "Jan -> Feb -> Mar -> Friday -> May -> Jun -> Jul -> Aug -> Sep -> Oct -> Nov -> Dec\n"
     ]
    }
   ],
   "source": [
    "# JOIN\n",
    "\n",
    "print(months)\n",
    "\n",
    "# join can only be used for strings\n",
    "print(\"\\n\".join(months)) # xuống dòng\n",
    "print(\" -> \".join(months)) # ngăn cách bằng dấu --"
   ]
  },
  {
   "cell_type": "code",
   "execution_count": 27,
   "metadata": {},
   "outputs": [
    {
     "ename": "TypeError",
     "evalue": "sequence item 0: expected str instance, int found",
     "output_type": "error",
     "traceback": [
      "\u001b[1;31m---------------------------------------------------------------------------\u001b[0m",
      "\u001b[1;31mTypeError\u001b[0m                                 Traceback (most recent call last)",
      "\u001b[1;32m<ipython-input-27-bb86060d1d48>\u001b[0m in \u001b[0;36m<module>\u001b[1;34m\u001b[0m\n\u001b[0;32m      1\u001b[0m \u001b[0mnum\u001b[0m \u001b[1;33m=\u001b[0m \u001b[1;33m[\u001b[0m\u001b[1;36m0\u001b[0m\u001b[1;33m,\u001b[0m\u001b[1;36m1\u001b[0m\u001b[1;33m,\u001b[0m\u001b[1;36m2\u001b[0m\u001b[1;33m,\u001b[0m\u001b[1;36m3\u001b[0m\u001b[1;33m,\u001b[0m\u001b[1;36m4\u001b[0m\u001b[1;33m]\u001b[0m\u001b[1;33m\u001b[0m\u001b[1;33m\u001b[0m\u001b[0m\n\u001b[1;32m----> 2\u001b[1;33m \u001b[0mprint\u001b[0m\u001b[1;33m(\u001b[0m\u001b[1;34m\"-\"\u001b[0m\u001b[1;33m.\u001b[0m\u001b[0mjoin\u001b[0m\u001b[1;33m(\u001b[0m\u001b[0mnum\u001b[0m\u001b[1;33m)\u001b[0m\u001b[1;33m)\u001b[0m\u001b[1;33m\u001b[0m\u001b[1;33m\u001b[0m\u001b[0m\n\u001b[0m",
      "\u001b[1;31mTypeError\u001b[0m: sequence item 0: expected str instance, int found"
     ]
    }
   ],
   "source": [
    "num = [0,1,2,3,4]\n",
    "print(\"-\".join(num))"
   ]
  },
  {
   "cell_type": "code",
   "execution_count": 28,
   "metadata": {},
   "outputs": [
    {
     "name": "stdout",
     "output_type": "stream",
     "text": [
      "['Jan', 'Feb', 'Mar', 'Friday', 'May', 'Jun', 'Jul', 'Aug', 'Sep', 'Oct', 'Nov', 'Dec']\n",
      "['Jan', 'Feb', 'Mar', 'Friday', 'May', 'Jun', 'Jul', 'Aug', 'Sep', 'Oct', 'Nov', 'Dec', 'test']\n",
      "['Jan', 'Feb', 'Mar', 'Friday', 'May', 'Jun', 'Jul', 'Aug', 'Sep', 'Oct', 'Nov', 'Dec', 'test']\n"
     ]
    }
   ],
   "source": [
    "# APPEND\n",
    "\n",
    "print(months)\n",
    "new_list = months\n",
    "new_list.append('test') # ảnh hưởng tới cả 2 list\n",
    "\n",
    "print(months)\n",
    "print(new_list)"
   ]
  },
  {
   "cell_type": "code",
   "execution_count": null,
   "metadata": {},
   "outputs": [],
   "source": []
  }
 ],
 "metadata": {
  "kernelspec": {
   "display_name": "Python 3.8.8 ('base')",
   "language": "python",
   "name": "python3"
  },
  "language_info": {
   "codemirror_mode": {
    "name": "ipython",
    "version": 3
   },
   "file_extension": ".py",
   "mimetype": "text/x-python",
   "name": "python",
   "nbconvert_exporter": "python",
   "pygments_lexer": "ipython3",
   "version": "3.8.8"
  },
  "orig_nbformat": 4,
  "vscode": {
   "interpreter": {
    "hash": "2345a9476b7802bf7302d618925fa374007e35a85ed395d1c321c678e8bfce7a"
   }
  }
 },
 "nbformat": 4,
 "nbformat_minor": 2
}
